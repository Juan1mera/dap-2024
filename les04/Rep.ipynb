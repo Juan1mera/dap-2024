{
  "nbformat": 4,
  "nbformat_minor": 0,
  "metadata": {
    "colab": {
      "provenance": [],
      "authorship_tag": "ABX9TyNDToGwuxaTKKLONZpYTpxO",
      "include_colab_link": true
    },
    "kernelspec": {
      "name": "python3",
      "display_name": "Python 3"
    },
    "language_info": {
      "name": "python"
    }
  },
  "cells": [
    {
      "cell_type": "markdown",
      "metadata": {
        "id": "view-in-github",
        "colab_type": "text"
      },
      "source": [
        "<a href=\"https://colab.research.google.com/github/Juan1mera/dap-2024/blob/main/les04/Rep.ipynb\" target=\"_parent\"><img src=\"https://colab.research.google.com/assets/colab-badge.svg\" alt=\"Open In Colab\"/></a>"
      ]
    },
    {
      "cell_type": "code",
      "execution_count": 4,
      "metadata": {
        "colab": {
          "base_uri": "https://localhost:8080/"
        },
        "id": "4-nnAUcn7QAO",
        "outputId": "1961e718-30b0-42e0-a2ff-3004f1edb503"
      },
      "outputs": [
        {
          "output_type": "stream",
          "name": "stdout",
          "text": [
            "\n",
            "Описание данных:\n",
            "          Survived      Pclass                 Name   Sex         Age  \\\n",
            "count   891.000000  891.000000                  891   891  714.000000   \n",
            "unique         NaN         NaN                  891     2         NaN   \n",
            "top            NaN         NaN  Dooley, Mr. Patrick  male         NaN   \n",
            "freq           NaN         NaN                    1   577         NaN   \n",
            "mean      0.383838    2.308642                  NaN   NaN   29.699118   \n",
            "std       0.486592    0.836071                  NaN   NaN   14.526497   \n",
            "min       0.000000    1.000000                  NaN   NaN    0.420000   \n",
            "25%       0.000000    2.000000                  NaN   NaN   20.125000   \n",
            "50%       0.000000    3.000000                  NaN   NaN   28.000000   \n",
            "75%       1.000000    3.000000                  NaN   NaN   38.000000   \n",
            "max       1.000000    3.000000                  NaN   NaN   80.000000   \n",
            "\n",
            "             SibSp       Parch  Ticket        Fare Cabin Embarked  \n",
            "count   891.000000  891.000000     891  891.000000   204      889  \n",
            "unique         NaN         NaN     681         NaN   147        3  \n",
            "top            NaN         NaN  347082         NaN    G6        S  \n",
            "freq           NaN         NaN       7         NaN     4      644  \n",
            "mean      0.523008    0.381594     NaN   32.204208   NaN      NaN  \n",
            "std       1.102743    0.806057     NaN   49.693429   NaN      NaN  \n",
            "min       0.000000    0.000000     NaN    0.000000   NaN      NaN  \n",
            "25%       0.000000    0.000000     NaN    7.910400   NaN      NaN  \n",
            "50%       0.000000    0.000000     NaN   14.454200   NaN      NaN  \n",
            "75%       1.000000    0.000000     NaN   31.000000   NaN      NaN  \n",
            "max       8.000000    6.000000     NaN  512.329200   NaN      NaN  \n"
          ]
        }
      ],
      "source": [
        "import numpy as np\n",
        "import pandas as pd\n",
        "\n",
        "# 1. Создание DataFrame с PassengerId в качестве индекса\n",
        "df = pd.read_csv('titanic.csv', index_col='PassengerId')"
      ]
    },
    {
      "cell_type": "markdown",
      "source": [
        "2. Просмотрите первые 6 строк"
      ],
      "metadata": {
        "id": "00zOQpKu_moe"
      }
    },
    {
      "cell_type": "code",
      "source": [
        "print(\"\\nПервые 6 строк:\")\n",
        "print(df.head(6))"
      ],
      "metadata": {
        "colab": {
          "base_uri": "https://localhost:8080/"
        },
        "id": "xS-wEj1A_npN",
        "outputId": "61f63cac-2c60-461b-ddcc-342d928749f5"
      },
      "execution_count": 5,
      "outputs": [
        {
          "output_type": "stream",
          "name": "stdout",
          "text": [
            "\n",
            "Первые 6 строк:\n",
            "             Survived  Pclass  \\\n",
            "PassengerId                     \n",
            "1                   0       3   \n",
            "2                   1       1   \n",
            "3                   1       3   \n",
            "4                   1       1   \n",
            "5                   0       3   \n",
            "6                   0       3   \n",
            "\n",
            "                                                          Name     Sex   Age  \\\n",
            "PassengerId                                                                    \n",
            "1                                      Braund, Mr. Owen Harris    male  22.0   \n",
            "2            Cumings, Mrs. John Bradley (Florence Briggs Th...  female  38.0   \n",
            "3                                       Heikkinen, Miss. Laina  female  26.0   \n",
            "4                 Futrelle, Mrs. Jacques Heath (Lily May Peel)  female  35.0   \n",
            "5                                     Allen, Mr. William Henry    male  35.0   \n",
            "6                                             Moran, Mr. James    male   NaN   \n",
            "\n",
            "             SibSp  Parch            Ticket     Fare Cabin Embarked  \n",
            "PassengerId                                                          \n",
            "1                1      0         A/5 21171   7.2500   NaN        S  \n",
            "2                1      0          PC 17599  71.2833   C85        C  \n",
            "3                0      0  STON/O2. 3101282   7.9250   NaN        S  \n",
            "4                1      0            113803  53.1000  C123        S  \n",
            "5                0      0            373450   8.0500   NaN        S  \n",
            "6                0      0            330877   8.4583   NaN        Q  \n"
          ]
        }
      ]
    },
    {
      "cell_type": "markdown",
      "source": [
        "3. Описание данных"
      ],
      "metadata": {
        "id": "z-JBaB5UAThQ"
      }
    },
    {
      "cell_type": "code",
      "source": [
        "print(\"\\nОписание данных:\")\n",
        "print(df.describe(include='all'))"
      ],
      "metadata": {
        "colab": {
          "base_uri": "https://localhost:8080/"
        },
        "id": "JISCgyCUAXoF",
        "outputId": "ace9ba6f-cdbe-4dd7-f965-2f524b3b3ba4"
      },
      "execution_count": 6,
      "outputs": [
        {
          "output_type": "stream",
          "name": "stdout",
          "text": [
            "\n",
            "Описание данных:\n",
            "          Survived      Pclass                 Name   Sex         Age  \\\n",
            "count   891.000000  891.000000                  891   891  714.000000   \n",
            "unique         NaN         NaN                  891     2         NaN   \n",
            "top            NaN         NaN  Dooley, Mr. Patrick  male         NaN   \n",
            "freq           NaN         NaN                    1   577         NaN   \n",
            "mean      0.383838    2.308642                  NaN   NaN   29.699118   \n",
            "std       0.486592    0.836071                  NaN   NaN   14.526497   \n",
            "min       0.000000    1.000000                  NaN   NaN    0.420000   \n",
            "25%       0.000000    2.000000                  NaN   NaN   20.125000   \n",
            "50%       0.000000    3.000000                  NaN   NaN   28.000000   \n",
            "75%       1.000000    3.000000                  NaN   NaN   38.000000   \n",
            "max       1.000000    3.000000                  NaN   NaN   80.000000   \n",
            "\n",
            "             SibSp       Parch  Ticket        Fare Cabin Embarked  \n",
            "count   891.000000  891.000000     891  891.000000   204      889  \n",
            "unique         NaN         NaN     681         NaN   147        3  \n",
            "top            NaN         NaN  347082         NaN    G6        S  \n",
            "freq           NaN         NaN       7         NaN     4      644  \n",
            "mean      0.523008    0.381594     NaN   32.204208   NaN      NaN  \n",
            "std       1.102743    0.806057     NaN   49.693429   NaN      NaN  \n",
            "min       0.000000    0.000000     NaN    0.000000   NaN      NaN  \n",
            "25%       0.000000    0.000000     NaN    7.910400   NaN      NaN  \n",
            "50%       0.000000    0.000000     NaN   14.454200   NaN      NaN  \n",
            "75%       1.000000    0.000000     NaN   31.000000   NaN      NaN  \n",
            "max       8.000000    6.000000     NaN  512.329200   NaN      NaN  \n"
          ]
        }
      ]
    },
    {
      "cell_type": "markdown",
      "source": [
        "4. Сколько мужчин / женщин находилось на борту?"
      ],
      "metadata": {
        "id": "p5BATlN4Ajhd"
      }
    },
    {
      "cell_type": "code",
      "source": [
        "print(\"\\nКоличество мужчин и женщин:\")\n",
        "print(df['Sex'].value_counts())"
      ],
      "metadata": {
        "colab": {
          "base_uri": "https://localhost:8080/"
        },
        "id": "d6QW6ZR1Amp2",
        "outputId": "a8e9f9b0-cd00-440b-db5a-b2d99ba29569"
      },
      "execution_count": 10,
      "outputs": [
        {
          "output_type": "stream",
          "name": "stdout",
          "text": [
            "\n",
            "Количество мужчин и женщин:\n",
            "Sex\n",
            "male      577\n",
            "female    314\n",
            "Name: count, dtype: int64\n"
          ]
        }
      ]
    },
    {
      "cell_type": "markdown",
      "source": [
        "4. Выведите распределение переменной Pclass (социально-экономический статус) и это же распределение, только для мужчин / женщин по отдельности. Сколько было мужчин 2-го класса"
      ],
      "metadata": {
        "id": "keGCBmUEAqQH"
      }
    },
    {
      "cell_type": "code",
      "source": [
        "print(\"\\nРаспределение по Pclass (общее):\")\n",
        "print(df['Pclass'].value_counts())\n",
        "print(\"\\nРаспределение по Pclass (мужчины):\")\n",
        "print(df[df['Sex'] == 'male']['Pclass'].value_counts())\n",
        "print(\"\\nРаспределение по Pclass (женщины):\")\n",
        "print(df[df['Sex'] == 'female']['Pclass'].value_counts())\n",
        "# Количество мужчин 2-го класса\n",
        "men_second_class = df[(df['Sex'] == 'male') & (df['Pclass'] == 2)].shape[0]\n",
        "print(f\"\\nКоличество мужчин 2-го класса: {men_second_class}\")"
      ],
      "metadata": {
        "colab": {
          "base_uri": "https://localhost:8080/"
        },
        "id": "5Jx3NCa5Atzf",
        "outputId": "f4108ccc-0e7f-42cc-ffea-a1fed9986304"
      },
      "execution_count": 11,
      "outputs": [
        {
          "output_type": "stream",
          "name": "stdout",
          "text": [
            "\n",
            "Распределение по Pclass (общее):\n",
            "Pclass\n",
            "3    491\n",
            "1    216\n",
            "2    184\n",
            "Name: count, dtype: int64\n",
            "\n",
            "Распределение по Pclass (мужчины):\n",
            "Pclass\n",
            "3    347\n",
            "1    122\n",
            "2    108\n",
            "Name: count, dtype: int64\n",
            "\n",
            "Распределение по Pclass (женщины):\n",
            "Pclass\n",
            "3    144\n",
            "1     94\n",
            "2     76\n",
            "Name: count, dtype: int64\n",
            "\n",
            "Количество мужчин 2-го класса: 108\n"
          ]
        }
      ]
    },
    {
      "cell_type": "markdown",
      "source": [
        "5. Каковы медиана и среднеквадрати́чное отклонение платежей (Fare)? Округлите до 2 десятичных знаков."
      ],
      "metadata": {
        "id": "7pRJGe5zBouW"
      }
    },
    {
      "cell_type": "code",
      "source": [
        "print(\"\\nМедиана и стандартное отклонение Fare:\")\n",
        "print(f\"Медиана: {df['Fare'].median():.2f}\")\n",
        "print(f\"Стандартное отклонение: {df['Fare'].std():.2f}\")"
      ],
      "metadata": {
        "colab": {
          "base_uri": "https://localhost:8080/"
        },
        "id": "O2cK3MvxBrkB",
        "outputId": "94329414-5dff-47f9-a211-739caff5c07e"
      },
      "execution_count": 16,
      "outputs": [
        {
          "output_type": "stream",
          "name": "stdout",
          "text": [
            "\n",
            "Медиана и стандартное отклонение Fare:\n",
            "Медиана: 14.45\n",
            "Стандартное отклонение: 49.69\n"
          ]
        }
      ]
    },
    {
      "cell_type": "markdown",
      "source": [
        "6. Правда ли, что люди моложе 30 лет выживали чаще, чем люди старше 60 лет? Каковы доли выживших в обеих группах?"
      ],
      "metadata": {
        "id": "iOHtjCyVBuX8"
      }
    },
    {
      "cell_type": "code",
      "source": [
        "young_survival = df[df['Age'] < 30]['Survived'].mean()\n",
        "old_survival = df[df['Age'] > 60]['Survived'].mean()\n",
        "print(\"\\nДоли выживших:\")\n",
        "print(f\"Моложе 30 лет: {young_survival:.2%}\")\n",
        "print(f\"Старше 60 лет: {old_survival:.2%}\")\n",
        "print(f\"Люди моложе 30 выживали чаще: {young_survival > old_survival}\")"
      ],
      "metadata": {
        "colab": {
          "base_uri": "https://localhost:8080/"
        },
        "id": "7aqyjQqzBw6b",
        "outputId": "90cfe1ba-632d-42a3-8907-1ff93773b850"
      },
      "execution_count": 17,
      "outputs": [
        {
          "output_type": "stream",
          "name": "stdout",
          "text": [
            "\n",
            "Доли выживших:\n",
            "Моложе 30 лет: 40.62%\n",
            "Старше 60 лет: 22.73%\n",
            "Люди моложе 30 выживали чаще: True\n"
          ]
        }
      ]
    },
    {
      "cell_type": "markdown",
      "source": [
        "7. Правда ли, что женщины выживали чаще мужчин? Каковы доли выживших в обеих группах?"
      ],
      "metadata": {
        "id": "b9QRsU2qBztH"
      }
    },
    {
      "cell_type": "code",
      "source": [
        "male_survival = df[df['Sex'] == 'male']['Survived'].mean()\n",
        "female_survival = df[df['Sex'] == 'female']['Survived'].mean()\n",
        "print(\"\\nДоли выживших по полу:\")\n",
        "print(f\"Мужчины: {male_survival:.2%}\")\n",
        "print(f\"Женщины: {female_survival:.2%}\")\n",
        "print(f\"Женщины выживали чаще: {female_survival > male_survival}\")"
      ],
      "metadata": {
        "colab": {
          "base_uri": "https://localhost:8080/"
        },
        "id": "ZvrF9nn1B14H",
        "outputId": "f5146229-3d52-41c2-92ff-cb3b61586fae"
      },
      "execution_count": 18,
      "outputs": [
        {
          "output_type": "stream",
          "name": "stdout",
          "text": [
            "\n",
            "Доли выживших по полу:\n",
            "Мужчины: 18.89%\n",
            "Женщины: 74.20%\n",
            "Женщины выживали чаще: True\n"
          ]
        }
      ]
    },
    {
      "cell_type": "markdown",
      "source": [
        "8. Найдите самое популярное имя среди пассажиров Титаника мужского пола?"
      ],
      "metadata": {
        "id": "0Znh9tOXB5D8"
      }
    },
    {
      "cell_type": "code",
      "source": [
        "male_names = df[df['Sex'] == 'male']['Name'].str.extract(r', Mr\\. (\\w+)')[0]\n",
        "popular_name = male_names.value_counts().index[0]\n",
        "print(f\"\\nСамое популярное мужское имя: {popular_name}\")"
      ],
      "metadata": {
        "colab": {
          "base_uri": "https://localhost:8080/"
        },
        "id": "h48WJACcB7Li",
        "outputId": "496e2e6c-0126-455d-ae1e-8755e3966e70"
      },
      "execution_count": 19,
      "outputs": [
        {
          "output_type": "stream",
          "name": "stdout",
          "text": [
            "\n",
            "Самое популярное мужское имя: William\n"
          ]
        }
      ]
    },
    {
      "cell_type": "markdown",
      "source": [
        "9. Как отличается средний возраст мужчин / женщин в зависимости от класса обслуживания? Выберите верные утверждения:\n",
        "\n",
        "В среднем мужчины 1-го класса старше 40 лет В среднем женщины 1-го класса старше 40 лет Мужчины всех классов в среднем старше женщин того же класса В среднем люди в 1 классе старше, чем во 2-ом, а те старше представителей 3-го класса"
      ],
      "metadata": {
        "id": "ErY8CwQaCD5c"
      }
    },
    {
      "cell_type": "code",
      "source": [
        "print(\"\\nСредний возраст по полу и классу:\")\n",
        "age_by_class_sex = df.groupby(['Pclass', 'Sex'])['Age'].mean()\n",
        "print(age_by_class_sex)\n",
        "\n",
        "# Проверка утверждений\n",
        "mean_age_male_1class = age_by_class_sex[1, 'male']\n",
        "mean_age_female_1class = age_by_class_sex[1, 'female']\n",
        "print(\"\\nПроверка утверждений:\")\n",
        "print(f\"Мужчины 1-го класса старше 40: {mean_age_male_1class > 40}\")\n",
        "print(f\"Женщины 1-го класса старше 40: {mean_age_female_1class > 40}\")\n",
        "print(f\"Мужчины старше женщин в каждом классе: \"\n",
        "      f\"{all(age_by_class_sex[pclass, 'male'] > age_by_class_sex[pclass, 'female'] for pclass in [1,2,3])}\")\n",
        "print(f\"Средний возраст убывает от 1-го к 3-му классу: \"\n",
        "      f\"{df.groupby('Pclass')['Age'].mean()[1] > df.groupby('Pclass')['Age'].mean()[2] > df.groupby('Pclass')['Age'].mean()[3]}\")"
      ],
      "metadata": {
        "colab": {
          "base_uri": "https://localhost:8080/"
        },
        "id": "EtSuaTTQCGho",
        "outputId": "cb2e2281-ee1a-48b1-c11a-4e4a7e6aee4f"
      },
      "execution_count": 22,
      "outputs": [
        {
          "output_type": "stream",
          "name": "stdout",
          "text": [
            "\n",
            "Средний возраст по полу и классу:\n",
            "Pclass  Sex   \n",
            "1       female    34.611765\n",
            "        male      41.281386\n",
            "2       female    28.722973\n",
            "        male      30.740707\n",
            "3       female    21.750000\n",
            "        male      26.507589\n",
            "Name: Age, dtype: float64\n",
            "\n",
            "Проверка утверждений:\n",
            "Мужчины 1-го класса старше 40: True\n",
            "Женщины 1-го класса старше 40: False\n",
            "Мужчины старше женщин в каждом классе: True\n",
            "Средний возраст убывает от 1-го к 3-му классу: True\n"
          ]
        }
      ]
    },
    {
      "cell_type": "markdown",
      "source": [
        "10. Сравните возраст у спасенных и у погибших пасажиров. Средний возраст погибших выше, верно?"
      ],
      "metadata": {
        "id": "nFCTzd1VCKnh"
      }
    },
    {
      "cell_type": "code",
      "source": [
        "mean_age_survived = df[df['Survived'] == 1]['Age'].mean()\n",
        "mean_age_died = df[df['Survived'] == 0]['Age'].mean()\n",
        "print(\"\\nСредний возраст:\")\n",
        "print(f\"Спасенные: {mean_age_survived:.2f}\")\n",
        "print(f\"Погибшие: {mean_age_died:.2f}\")\n",
        "print(f\"Средний возраст погибших выше: {mean_age_died > mean_age_survived}\")"
      ],
      "metadata": {
        "colab": {
          "base_uri": "https://localhost:8080/"
        },
        "id": "DWtd-iQECNF0",
        "outputId": "1e8f8ee7-fd8a-477e-91fd-e75b936de8dc"
      },
      "execution_count": 21,
      "outputs": [
        {
          "output_type": "stream",
          "name": "stdout",
          "text": [
            "\n",
            "Средний возраст:\n",
            "Спасенные: 28.34\n",
            "Погибшие: 30.63\n",
            "Средний возраст погибших выше: True\n"
          ]
        }
      ]
    },
    {
      "cell_type": "markdown",
      "source": [
        "# Вопросы и ответы по Pandas\n",
        "\n",
        "## 1. Что такое медиана? Рассчитать медиану для предложенного ряда чисел.\n",
        "**Медиана** — это значение, которое делит упорядоченный набор данных на две равные части: половина значений меньше медианы, а другая половина больше.  \n",
        "Для расчета медианы в Pandas используется метод `.median()`.\n",
        "\n",
        "Пример:\n",
        "```python\n",
        "import pandas as pd\n",
        "\n",
        "data = pd.Series([1, 2, 3, 4, 5])\n",
        "median = data.median()  # Результат: 3\n",
        "```\n",
        "\n",
        "---\n",
        "\n",
        "## 2. Что такое дисперсия? Рассчитать дисперсию для предложенного ряда чисел.\n",
        "**Дисперсия** — это мера разброса данных относительно их среднего значения. Она показывает, насколько сильно значения в наборе данных отличаются от среднего.  \n",
        "В Pandas дисперсия рассчитывается с помощью метода `.var()`.\n",
        "\n",
        "Пример:\n",
        "```python\n",
        "import pandas as pd\n",
        "\n",
        "data = pd.Series([1, 2, 3, 4, 5])\n",
        "variance = data.var()  # Результат: 2.0\n",
        "```\n",
        "\n",
        "---\n",
        "\n",
        "## 3. Что такое среднеквадратичное отклонение? Рассчитать среднеквадратичное отклонение для предложенного ряда чисел.\n",
        "**Среднеквадратичное отклонение (стандартное отклонение)** — это квадратный корень из дисперсии. Оно также показывает разброс данных, но в тех же единицах измерения, что и сами данные.  \n",
        "В Pandas стандартное отклонение рассчитывается с помощью метода `.std()`.\n",
        "\n",
        "Пример:\n",
        "```python\n",
        "import pandas as pd\n",
        "\n",
        "data = pd.Series([1, 2, 3, 4, 5])\n",
        "std_deviation = data.std()  # Результат: ~1.414\n",
        "```\n",
        "\n",
        "---\n",
        "\n",
        "## 4. Что такое Series и чем он отличается от DataFrame?\n",
        "- **Series** — это одномерная структура данных в Pandas, представляющая собой массив значений с индексами. Это аналог одномерного массива или столбца таблицы.\n",
        "- **DataFrame** — это двумерная структура данных, состоящая из нескольких Series, организованных в виде таблицы с строками и столбцами.\n",
        "\n",
        "Основное отличие:\n",
        "- Series — одномерная структура.\n",
        "- DataFrame — многомерная структура (таблица).\n",
        "\n",
        "---\n",
        "\n",
        "## 5. Можно ли изменить индекс в Series после создания объекта?\n",
        "Да, индекс можно изменить после создания объекта Series с помощью атрибута `.index`.\n",
        "\n",
        "Пример:\n",
        "```python\n",
        "import pandas as pd\n",
        "\n",
        "s = pd.Series([1, 2, 3])\n",
        "s.index = ['a', 'b', 'c']  # Новый индекс\n",
        "```\n",
        "\n",
        "---\n",
        "\n",
        "## 6. Можно ли выполнить операцию сложения над двумя объектами Series?\n",
        "\n",
        "### a) Одинаковые типы данных, одинаковые размеры и одинаковые индексы\n",
        "Да, сложение будет выполнено поэлементно.\n",
        "\n",
        "### b) Одинаковые типы данных, одинаковые размеры, но разные индексы\n",
        "Да, но результат будет содержать `NaN` для несовпадающих индексов.\n",
        "\n",
        "### c) Одинаковые типы данных, разные размеры и одинаковые индексы\n",
        "Нет, так как размеры должны совпадать.\n",
        "\n",
        "### d) Разные типы данных, одинаковые размеры и одинаковые индексы\n",
        "Нет, так как операции между разными типами данных могут быть несовместимы.\n",
        "\n",
        "### e) Разные типы данных, одинаковые размеры и разные индексы\n",
        "Нет, так как и типы данных, и индексы не совпадают.\n",
        "\n",
        "### f) Разные типы данных, разные размеры и разные индексы\n",
        "Нет, так как все условия не выполняются.\n",
        "\n",
        "---\n",
        "\n",
        "## 7. Что такое DataFrame и чем он отличается от Series?\n",
        "- **Series** — одномерная структура данных (столбец).\n",
        "- **DataFrame** — двумерная структура данных (таблица), состоящая из нескольких Series.\n",
        "\n",
        "Отличия:\n",
        "- Series — один столбец данных.\n",
        "- DataFrame — несколько столбцов данных, объединенных в таблицу.\n",
        "\n",
        "---\n",
        "\n",
        "## 8. Что необходимо сделать, чтобы число строк в DataFrame при его просмотре, по умолчанию составляло 8?\n",
        "Используйте метод `.set_option()`:\n",
        "\n",
        "```python\n",
        "import pandas as pd\n",
        "\n",
        "pd.set_option('display.max_rows', 8)\n",
        "```\n",
        "\n",
        "---\n",
        "\n",
        "## 9. Чем отличается метод `iloc` от метода `loc`?\n",
        "- **`iloc`** — выборка данных по числовому индексу (позиции).\n",
        "- **`loc`** — выборка данных по меткам индекса.\n",
        "\n",
        "Пример:\n",
        "```python\n",
        "df = pd.DataFrame({'A': [1, 2, 3]}, index=['x', 'y', 'z'])\n",
        "\n",
        "print(df.iloc[0])  # Выборка по позиции (первая строка)\n",
        "print(df.loc['x'])  # Выборка по метке индекса ('x')\n",
        "```\n",
        "\n",
        "---\n",
        "\n",
        "## 10. Можно ли добавить в DataFrame дополнительный Series?\n",
        "Да, можно добавить новый столбец (Series) в DataFrame:\n",
        "\n",
        "```python\n",
        "import pandas as pd\n",
        "\n",
        "df = pd.DataFrame({'A': [1, 2, 3]})\n",
        "new_series = pd.Series([4, 5, 6])\n",
        "\n",
        "df['B'] = new_series  # Добавление нового столбца\n",
        "```\n",
        "\n",
        "---\n",
        "\n",
        "## 11. Требуются ли установка дополнительных библиотек для загрузки с помощью pandas файлов в формате CSV? Excel (.xls)? Json?\n",
        "\n",
        "- **CSV**: Нет, дополнительные библиотеки не требуются.\n",
        "- **Excel (.xls)**: Да, требуется библиотека `xlrd` или `openpyxl`.\n",
        "- **JSON**: Нет, дополнительные библиотеки не требуются.\n",
        "\n",
        "Примеры:\n",
        "```python\n",
        "# CSV\n",
        "df_csv = pd.read_csv('file.csv')\n",
        "\n",
        "# Excel\n",
        "df_excel = pd.read_excel('file.xls')  # Требуется xlrd/openpyxl\n",
        "\n",
        "# JSON\n",
        "df_json = pd.read_json('file.json')\n",
        "```"
      ],
      "metadata": {
        "id": "zcf96632EdHU"
      }
    }
  ]
}