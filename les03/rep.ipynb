{
  "nbformat": 4,
  "nbformat_minor": 0,
  "metadata": {
    "colab": {
      "provenance": [],
      "authorship_tag": "ABX9TyNEKiM1VEyb8svA7/+W0FAe",
      "include_colab_link": true
    },
    "kernelspec": {
      "name": "python3",
      "display_name": "Python 3"
    },
    "language_info": {
      "name": "python"
    }
  },
  "cells": [
    {
      "cell_type": "markdown",
      "metadata": {
        "id": "view-in-github",
        "colab_type": "text"
      },
      "source": [
        "<a href=\"https://colab.research.google.com/github/Juan1mera/dap-2024/blob/main/les03/rep.ipynb\" target=\"_parent\"><img src=\"https://colab.research.google.com/assets/colab-badge.svg\" alt=\"Open In Colab\"/></a>"
      ]
    },
    {
      "cell_type": "markdown",
      "source": [
        "1. Создать массив 10x10 со случайными значениями, найти минимум и максимум (низкая)"
      ],
      "metadata": {
        "id": "s-hsB9kk0De1"
      }
    },
    {
      "cell_type": "code",
      "source": [
        "import numpy as np\n",
        "\n",
        "arr = np.random.random((10, 10))\n",
        "min_val = arr.min()\n",
        "max_val = arr.max()\n",
        "\n",
        "print(\"Array:\\n\", arr)\n",
        "print(\"Min:\", min_val)\n",
        "print(\"Max:\", max_val)"
      ],
      "metadata": {
        "colab": {
          "base_uri": "https://localhost:8080/"
        },
        "id": "KN5qWjjr0Gx-",
        "outputId": "6fddbdc5-8771-4adb-e5e0-90b9d26a040a"
      },
      "execution_count": 2,
      "outputs": [
        {
          "output_type": "stream",
          "name": "stdout",
          "text": [
            "Array:\n",
            " [[0.62781646 0.58067298 0.09196054 0.68189015 0.07284652 0.98830349\n",
            "  0.16576887 0.21287549 0.32341005 0.51485157]\n",
            " [0.82243768 0.94734329 0.99229658 0.8859902  0.17863167 0.82183456\n",
            "  0.03185719 0.32352498 0.28748161 0.91005408]\n",
            " [0.75128453 0.48432226 0.02463824 0.21479178 0.23739487 0.81061322\n",
            "  0.05819949 0.87286378 0.14218554 0.55401177]\n",
            " [0.78005345 0.54028524 0.19524393 0.60531046 0.69050342 0.83018153\n",
            "  0.98224394 0.64960681 0.30482145 0.32859154]\n",
            " [0.03620099 0.28353683 0.85857801 0.02427022 0.82118962 0.96647299\n",
            "  0.64287344 0.74067041 0.15620984 0.4345866 ]\n",
            " [0.96944298 0.77932684 0.24096666 0.05664853 0.58598215 0.18874953\n",
            "  0.92568074 0.0610512  0.40059629 0.99986407]\n",
            " [0.47635635 0.18351904 0.14768929 0.62245908 0.52830246 0.1718689\n",
            "  0.94102228 0.78784451 0.94240613 0.22937779]\n",
            " [0.65997158 0.18539633 0.21170626 0.43315558 0.25352579 0.09487365\n",
            "  0.52866141 0.65802653 0.30524036 0.9514088 ]\n",
            " [0.02562759 0.99996788 0.29709372 0.09697611 0.11554112 0.25030542\n",
            "  0.33818279 0.11506857 0.74732511 0.19384446]\n",
            " [0.47700357 0.52205959 0.33819381 0.32947484 0.18796047 0.91442041\n",
            "  0.93134948 0.60838034 0.79314715 0.69954717]]\n",
            "Min: 0.02427021712978661\n",
            "Max: 0.9999678831463756\n"
          ]
        }
      ]
    },
    {
      "cell_type": "markdown",
      "source": [
        "2. Создать 8x8 матрицу и заполнить её единицами и нулями в шахматном порядке"
      ],
      "metadata": {
        "id": "1A47DXyD0Tr5"
      }
    },
    {
      "cell_type": "code",
      "source": [
        "arr = np.zeros((8, 8), dtype=int)\n",
        "# Establecer elementos alternados en 1 para el patrón de tablero de ajedrez\n",
        "arr[::2, ::2] = 1  # Establecer 1 en filas pares, columnas pares\n",
        "arr[1::2, 1::2] = 1  # Establecer 1 en filas impares, columnas impares\n",
        "\n",
        "print(\"Матрица шахматной доски:\\n\", arr)"
      ],
      "metadata": {
        "colab": {
          "base_uri": "https://localhost:8080/"
        },
        "id": "gLIbwzk60XJR",
        "outputId": "d1b55f62-2dfc-4f2a-ddd8-f6fbee7e37aa"
      },
      "execution_count": 19,
      "outputs": [
        {
          "output_type": "stream",
          "name": "stdout",
          "text": [
            "Матрица шахматной доски:\n",
            " [[1 0 1 0 1 0 1 0]\n",
            " [0 1 0 1 0 1 0 1]\n",
            " [1 0 1 0 1 0 1 0]\n",
            " [0 1 0 1 0 1 0 1]\n",
            " [1 0 1 0 1 0 1 0]\n",
            " [0 1 0 1 0 1 0 1]\n",
            " [1 0 1 0 1 0 1 0]\n",
            " [0 1 0 1 0 1 0 1]]\n"
          ]
        }
      ]
    },
    {
      "cell_type": "markdown",
      "source": [
        "3. Дан массив из 11 элементов, поменять знак у элементов, значения которых между 3 и 8"
      ],
      "metadata": {
        "id": "1OJufYJ90e_R"
      }
    },
    {
      "cell_type": "code",
      "source": [
        "z = np.arange(11)\n",
        "z[(z > 3) & (z < 8)] *= -1\n",
        "\n",
        "print(\"Измененное расположение:\", z)"
      ],
      "metadata": {
        "colab": {
          "base_uri": "https://localhost:8080/"
        },
        "id": "r-i604L70ioJ",
        "outputId": "ddf82a80-bdb3-45b3-8340-a9ca887e13eb"
      },
      "execution_count": 4,
      "outputs": [
        {
          "output_type": "stream",
          "name": "stdout",
          "text": [
            "Измененное расположение: [ 0  1  2  3 -4 -5 -6 -7  8  9 10]\n"
          ]
        }
      ]
    },
    {
      "cell_type": "markdown",
      "source": [
        "5. Поменяйте 1 и 2 строки матрицы"
      ],
      "metadata": {
        "id": "CvfQZ2q51Y2P"
      }
    },
    {
      "cell_type": "code",
      "source": [
        "z = np.arange(25).reshape(5, 5)\n",
        "z[[0, 1]] = z[[1, 0]]  # Intercambiar filas 0 y 1\n",
        "\n",
        "print(\"Матрица после замены строк 1 и 2:\\n\", z)"
      ],
      "metadata": {
        "colab": {
          "base_uri": "https://localhost:8080/"
        },
        "id": "Y2fby26I1aam",
        "outputId": "df08d18b-0b5f-4107-be1d-374564b97d6c"
      },
      "execution_count": 5,
      "outputs": [
        {
          "output_type": "stream",
          "name": "stdout",
          "text": [
            "Матрица после замены строк 1 и 2:\n",
            " [[ 5  6  7  8  9]\n",
            " [ 0  1  2  3  4]\n",
            " [10 11 12 13 14]\n",
            " [15 16 17 18 19]\n",
            " [20 21 22 23 24]]\n"
          ]
        }
      ]
    },
    {
      "cell_type": "markdown",
      "source": [
        "6. Дан массив 10x2 подеставлющий собой точки в декартовой системе координат, преобразовать в полярную"
      ],
      "metadata": {
        "id": "nYTlRQKP1jQX"
      }
    },
    {
      "cell_type": "code",
      "source": [
        "z = np.random.random((10, 2))\n",
        "x, y = z[:, 0], z[:, 1]  # Extraer coordenadas x e y\n",
        "r = np.sqrt(x**2 + y**2)  # Radio: sqrt(x^2 + y^2)\n",
        "theta = np.arctan2(y, x)  # Ángulo: arctan(y/x)\n",
        "polar = np.column_stack((r, theta))  # Combinar en un arreglo de 10x2\n",
        "\n",
        "print(\"Декартовы координаты:\\n\", z)\n",
        "print(\"Полярные координаты (r, theta):\\n\", polar)"
      ],
      "metadata": {
        "colab": {
          "base_uri": "https://localhost:8080/"
        },
        "id": "z9KdZoqF1k1-",
        "outputId": "66f32441-3f0a-4a00-c027-318d7bc8939c"
      },
      "execution_count": 18,
      "outputs": [
        {
          "output_type": "stream",
          "name": "stdout",
          "text": [
            "Декартовы координаты:\n",
            " [[0.23822629 0.8681674 ]\n",
            " [0.52078175 0.62504579]\n",
            " [0.02093438 0.71681165]\n",
            " [0.40799045 0.29986927]\n",
            " [0.52755815 0.50672524]\n",
            " [0.20214774 0.38684045]\n",
            " [0.5667273  0.19140618]\n",
            " [0.79496958 0.03294337]\n",
            " [0.71421064 0.74634051]\n",
            " [0.13762692 0.16434211]]\n",
            "Полярные координаты (r, theta):\n",
            " [[0.90025907 1.30298678]\n",
            " [0.81356983 0.87614279]\n",
            " [0.71711728 1.54159977]\n",
            " [0.50633762 0.63382588]\n",
            " [0.73149714 0.76525853]\n",
            " [0.43647365 1.08926323]\n",
            " [0.59817736 0.32571083]\n",
            " [0.79565187 0.04141609]\n",
            " [1.03301549 0.80739307]\n",
            " [0.21435834 0.87363841]]\n"
          ]
        }
      ]
    },
    {
      "cell_type": "markdown",
      "source": [
        "7. Заменить максимальный элемент массива на ноль"
      ],
      "metadata": {
        "id": "SGqY4Pz31vEv"
      }
    },
    {
      "cell_type": "code",
      "source": [
        "z = np.random.random(10)\n",
        "z[z.argmax()] = 0\n",
        "\n",
        "print(\"Исправление после замены максимального значения на 0:\", z)"
      ],
      "metadata": {
        "colab": {
          "base_uri": "https://localhost:8080/"
        },
        "id": "MXJmS6Mj1x3e",
        "outputId": "69f8b6ab-e8fe-4bb9-f1be-8c00ecd6b94f"
      },
      "execution_count": 7,
      "outputs": [
        {
          "output_type": "stream",
          "name": "stdout",
          "text": [
            "Исправление после замены максимального значения на 0: [0.11626579 0.         0.83947114 0.48012939 0.52690646 0.12493406\n",
            " 0.30282715 0.007827   0.01716691 0.56435375]\n"
          ]
        }
      ]
    },
    {
      "cell_type": "markdown",
      "source": [
        "8. Дан массив, добавить 1 к каждому элементу с индексом, заданным в другом массиве. Добавление производиться только 1 раз"
      ],
      "metadata": {
        "id": "aHsYf_A712Xs"
      }
    },
    {
      "cell_type": "code",
      "source": [
        "z = np.ones(10)\n",
        "i = np.random.randint(0, len(z), 20)\n",
        "unique_indices = np.unique(i)  # Obtener índices únicos\n",
        "z[unique_indices] += 1  # Sumar 1 a los elementos en los índices únicos\n",
        "\n",
        "print(\"Исправление после добавления 1 к уникальным индексам:\", z)"
      ],
      "metadata": {
        "colab": {
          "base_uri": "https://localhost:8080/"
        },
        "id": "eIKBK62y15gx",
        "outputId": "cee1ac2d-3bc2-4bfd-9657-ea6451c0838e"
      },
      "execution_count": 16,
      "outputs": [
        {
          "output_type": "stream",
          "name": "stdout",
          "text": [
            "Исправление после добавления 1 к уникальным индексам: [2. 2. 2. 2. 2. 2. 2. 2. 2. 1.]\n"
          ]
        }
      ]
    },
    {
      "cell_type": "markdown",
      "source": [
        "9. Дан вектор [1, 2, 3, 4, 5], построить новый вектор с тремя нулями между каждым значением"
      ],
      "metadata": {
        "id": "sbDgVsAY2B9f"
      }
    },
    {
      "cell_type": "code",
      "source": [
        "z = np.array([1, 2, 3, 4, 5])\n",
        "n = len(z) * 4 - 3  # Nueva longitud: 5*4 - 3 = 17 (5 valores + 3 ceros entre cada uno)\n",
        "new_arr = np.zeros(n, dtype=z.dtype)\n",
        "new_arr[::4] = z  # Colocar los valores originales en los índices 0, 4, 8, 12, 16\n",
        "\n",
        "print(\"Вектор с тремя нулями между значениями:\", new_arr)"
      ],
      "metadata": {
        "colab": {
          "base_uri": "https://localhost:8080/"
        },
        "id": "OjxqGhAx2Dk2",
        "outputId": "4bf4052f-4a58-4255-9fa2-abed67ef2636"
      },
      "execution_count": 13,
      "outputs": [
        {
          "output_type": "stream",
          "name": "stdout",
          "text": [
            "Вектор с тремя нулями между значениями: [1 0 0 0 2 0 0 0 3 0 0 0 4 0 0 0 5]\n"
          ]
        }
      ]
    },
    {
      "cell_type": "markdown",
      "source": [
        "10. Найти ближайшее к заданному значению число в заданном массиве"
      ],
      "metadata": {
        "id": "CJ6S9tLO2K4d"
      }
    },
    {
      "cell_type": "code",
      "source": [
        "z = np.arange(100)\n",
        "v = np.random.uniform(0, 100)\n",
        "closest = z[np.abs(z - v).argmin()]\n",
        "\n",
        "print(\"Array:\", z)\n",
        "print(\"Значение:\", v)\n",
        "print(\"Ближайшее значение:\", closest)"
      ],
      "metadata": {
        "colab": {
          "base_uri": "https://localhost:8080/"
        },
        "id": "2_Dt5a7X2Lup",
        "outputId": "c098f24e-6e69-49b6-8712-a589cf8f9010"
      },
      "execution_count": 20,
      "outputs": [
        {
          "output_type": "stream",
          "name": "stdout",
          "text": [
            "Array: [ 0  1  2  3  4  5  6  7  8  9 10 11 12 13 14 15 16 17 18 19 20 21 22 23\n",
            " 24 25 26 27 28 29 30 31 32 33 34 35 36 37 38 39 40 41 42 43 44 45 46 47\n",
            " 48 49 50 51 52 53 54 55 56 57 58 59 60 61 62 63 64 65 66 67 68 69 70 71\n",
            " 72 73 74 75 76 77 78 79 80 81 82 83 84 85 86 87 88 89 90 91 92 93 94 95\n",
            " 96 97 98 99]\n",
            "Значение: 78.22228876424828\n",
            "Ближайшее значение: 78\n"
          ]
        }
      ]
    },
    {
      "cell_type": "markdown",
      "source": [
        "### 1. Какой тип (dtype) будут иметь элементы массива?\n",
        "\n",
        "```\n",
        "# a) int64\n",
        "# b) float64\n",
        "# c) float128\n",
        "# d) complex128\n",
        "# e) float64\n",
        "# f) int64\n",
        "# g) bool\n",
        "# h) <U1\n",
        "# i) <U21\n",
        "# j) complex128\n",
        "```\n",
        "\n",
        "### 2. Что будет выведено в консоль и почему?\n",
        "\n",
        "```python\n",
        "# a) '41' (string '4' concatenated with '1')\n",
        "# b) True (boolean True from [3] or integer -4)\n",
        "# c) -4 (boolean False from [3] and integer -4)\n",
        "# d) 1 (True converted to int64)\n",
        "# e) ValueError (complex number cannot be converted to int64)\n",
        "# f) '1j' (complex number converted to string)\n",
        "# g) '333' (string '3' repeated three times)\n",
        "```\n",
        "\n",
        "### 3. Каков результат операции?\n",
        "\n",
        "```python\n",
        "# a) array([[1., 1., 1., 1., 1.], [1., 1., 1., 1., 1.], [1., 1., 1., 1., 1.]])\n",
        "# b) array([[3.14, 3.14, 3.14, 3.14, 3.14], [3.14, 3.14, 3.14, 3.14, 3.14], [3.14, 3.14, 3.14, 3.14, 3.14]])\n",
        "# c) array([0., 0.25, 0.5, 0.75, 1.])\n",
        "# d) array([[1, 0, 0], [0, 3, 0], [0, 0, 5]])\n",
        "# e) AttributeError (no such function np.smile)\n",
        "# f) 3x3 array with random floats in [0, 1)\n",
        "# g) array([[1., 0., 0.], [0., 1., 0.], [0., 0., 1.]])\n",
        "# h) array of length 3 with uninitialized values\n",
        "```\n",
        "\n",
        "### 4. Дан двумерный массив X, что будет выведено в консоль?\n",
        "\n",
        "```python\n",
        "# a) 3\n",
        "# b) 7\n",
        "# c) array([4])\n",
        "# d) array([4, 8])\n",
        "# e) array([[3, 5], [7, 6]])\n",
        "# f) array([6, 8])\n",
        "# g) array([7, 6, 8, 8])\n",
        "# h) array([7, 6, 8, 8])\n",
        "# i) array([[3, 5, 2, 4], [7, 6, 8, 8], [1, 6, 7, 7]])\n",
        "# j) array([[3, 5, 2, 4], [7, 6, 8, 8], [1, 6, 7, 7]])\n",
        "# k) array([[3, 2], [1, 7]])\n",
        "# l) array([[3, 2], [1, 7]])\n",
        "# m) array([[7, 7, 6, 1], [8, 8, 6, 7], [4, 2, 5, 3]])\n",
        "```\n",
        "\n",
        "### 5. Дан двумерный массив grid, в чем различее между операциями?\n",
        "\n",
        "```python\n",
        "# np.split(grid, [2]): Splits into two sub-arrays along axis 0 (rows): [0:2, :] and [2:, :]\n",
        "# np.split(grid, [2], axis=1): Splits into two sub-arrays along axis 1 (columns): [:, 0:2] and [:, 2:]\n",
        "```\n",
        "\n",
        "### 6. В чем различие между операциями?\n",
        "\n",
        "```python\n",
        "# [1, 2, 3] + [3, 2, 1]: List concatenation, results in [1, 2, 3, 3, 2, 1]\n",
        "# np.array([1, 2, 3]) + np.array([3, 2, 1]): Element-wise addition, results in array([4, 4, 4])\n",
        "```\n",
        "\n",
        "### 7. Как в CodeLab измерить время выполнения кода?\n",
        "\n",
        "```python\n",
        "%timeit <code>\n",
        "```\n",
        "\n",
        "### 8. Дан массив X, каковы результаты операций?\n",
        "\n",
        "```python\n",
        "# Assuming M is meant to be X\n",
        "# a) np.sum(X): 72\n",
        "# b) np.sum(X, axis=1): array([14, 29, 21])\n",
        "# c) np.sum(X, axis=0): array([11, 17, 17, 19])\n",
        "# d) np.sum(X, axis=2): ValueError (axis 2 is out of bounds for 2D array)\n",
        "# e) np.sum(X, 1): array([14, 29, 21])\n",
        "# f) sum(X): array([11, 17, 17, 19])\n",
        "# g) sum(X, 1): TypeError (Python's sum does not support axis argument)\n",
        "```\n",
        "\n",
        "### 9. Дан массив X, что будет выведено в консоль?\n",
        "\n",
        "```python\n",
        "# a) array([False, False, False, True])\n",
        "# b) array([True, True, False, False])\n",
        "# c) array([1, 2])\n",
        "# d) array([4])\n",
        "# e) array([1, 2, 4])\n",
        "```\n",
        "\n",
        "### 10. В чем преимущество массивов NumPy по сравнению с обычными списками. Чем обусловлено это преимущество?\n",
        "\n",
        "NumPy arrays are faster and more memory-efficient than Python lists due to their fixed-type, contiguous memory storage and vectorized operations implemented in C, which avoid Python's object overhead and enable efficient computation."
      ],
      "metadata": {
        "id": "1yX6oS5d-CZ_"
      }
    }
  ]
}