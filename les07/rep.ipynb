{
  "nbformat": 4,
  "nbformat_minor": 0,
  "metadata": {
    "colab": {
      "provenance": [],
      "authorship_tag": "ABX9TyMQ4XWgH8EVJwZLtxiJjT2K",
      "include_colab_link": true
    },
    "kernelspec": {
      "name": "python3",
      "display_name": "Python 3"
    },
    "language_info": {
      "name": "python"
    }
  },
  "cells": [
    {
      "cell_type": "markdown",
      "metadata": {
        "id": "view-in-github",
        "colab_type": "text"
      },
      "source": [
        "<a href=\"https://colab.research.google.com/github/Juan1mera/dap-2024/blob/main/les07/rep.ipynb\" target=\"_parent\"><img src=\"https://colab.research.google.com/assets/colab-badge.svg\" alt=\"Open In Colab\"/></a>"
      ]
    },
    {
      "cell_type": "markdown",
      "source": [
        "# Лабораторная работа №7. Классификация\n",
        "Импорт необходимых библиотек и вывод версий"
      ],
      "metadata": {
        "id": "wwgRP4w-kQQh"
      }
    },
    {
      "cell_type": "code",
      "source": [
        "import sys\n",
        "import matplotlib as mpl\n",
        "import matplotlib.pyplot as plt\n",
        "import numpy as np\n",
        "import pandas as pd\n",
        "\n",
        "print(f\"Python version: {sys.version}\")\n",
        "print(f\"Numpy version: {np.__version__}\")\n",
        "print(f\"Pandas version: {pd.__version__}\")\n",
        "print(f\"Matplotlib version: {mpl.__version__}\")"
      ],
      "metadata": {
        "colab": {
          "base_uri": "https://localhost:8080/"
        },
        "id": "vGvcWgzzkUaC",
        "outputId": "2d276eda-fd8a-4a54-ab83-797810f14cd4"
      },
      "execution_count": 1,
      "outputs": [
        {
          "output_type": "stream",
          "name": "stdout",
          "text": [
            "Python version: 3.12.11 (main, Jun  4 2025, 08:56:18) [GCC 11.4.0]\n",
            "Numpy version: 2.0.2\n",
            "Pandas version: 2.2.2\n",
            "Matplotlib version: 3.10.0\n"
          ]
        }
      ]
    },
    {
      "cell_type": "markdown",
      "source": [
        "## Извлечение данных\n",
        "Создадим DataFrame из файла titanic.csv, используя столбец PassengerId в качестве индекса."
      ],
      "metadata": {
        "id": "z-kQ1kQpkZs7"
      }
    },
    {
      "cell_type": "code",
      "source": [
        "df = pd.read_csv('titanic.csv', index_col='PassengerId')\n",
        "\n",
        "print(\"Первые 7 строк набора данных:\")\n",
        "print(df.head(7))"
      ],
      "metadata": {
        "colab": {
          "base_uri": "https://localhost:8080/"
        },
        "id": "AjOXfLQqkeLW",
        "outputId": "41385864-031a-43dc-8a5b-e2742a0414c2"
      },
      "execution_count": 3,
      "outputs": [
        {
          "output_type": "stream",
          "name": "stdout",
          "text": [
            "Первые 7 строк набора данных:\n",
            "             Survived  Pclass  \\\n",
            "PassengerId                     \n",
            "1                   0       3   \n",
            "2                   1       1   \n",
            "3                   1       3   \n",
            "4                   1       1   \n",
            "5                   0       3   \n",
            "6                   0       3   \n",
            "7                   0       1   \n",
            "\n",
            "                                                          Name     Sex   Age  \\\n",
            "PassengerId                                                                    \n",
            "1                                      Braund, Mr. Owen Harris    male  22.0   \n",
            "2            Cumings, Mrs. John Bradley (Florence Briggs Th...  female  38.0   \n",
            "3                                       Heikkinen, Miss. Laina  female  26.0   \n",
            "4                 Futrelle, Mrs. Jacques Heath (Lily May Peel)  female  35.0   \n",
            "5                                     Allen, Mr. William Henry    male  35.0   \n",
            "6                                             Moran, Mr. James    male   NaN   \n",
            "7                                      McCarthy, Mr. Timothy J    male  54.0   \n",
            "\n",
            "             SibSp  Parch            Ticket     Fare Cabin Embarked  \n",
            "PassengerId                                                          \n",
            "1                1      0         A/5 21171   7.2500   NaN        S  \n",
            "2                1      0          PC 17599  71.2833   C85        C  \n",
            "3                0      0  STON/O2. 3101282   7.9250   NaN        S  \n",
            "4                1      0            113803  53.1000  C123        S  \n",
            "5                0      0            373450   8.0500   NaN        S  \n",
            "6                0      0            330877   8.4583   NaN        Q  \n",
            "7                0      0             17463  51.8625   E46        S  \n"
          ]
        }
      ]
    },
    {
      "cell_type": "markdown",
      "source": [
        "## Подготовка данных\n",
        "Выведем информацию о типах данных и проверим наличие пропущенных значений."
      ],
      "metadata": {
        "id": "NCvW_7hCkgRZ"
      }
    },
    {
      "cell_type": "code",
      "source": [
        "print(\"\\nИнформация о типах данных и пропущенных значениях:\")\n",
        "df.info()"
      ],
      "metadata": {
        "colab": {
          "base_uri": "https://localhost:8080/"
        },
        "id": "NEh9XSeckjXH",
        "outputId": "7d679690-1af1-491d-e452-1f2cd83cb876"
      },
      "execution_count": 4,
      "outputs": [
        {
          "output_type": "stream",
          "name": "stdout",
          "text": [
            "\n",
            "Информация о типах данных и пропущенных значениях:\n",
            "<class 'pandas.core.frame.DataFrame'>\n",
            "Index: 891 entries, 1 to 891\n",
            "Data columns (total 11 columns):\n",
            " #   Column    Non-Null Count  Dtype  \n",
            "---  ------    --------------  -----  \n",
            " 0   Survived  891 non-null    int64  \n",
            " 1   Pclass    891 non-null    int64  \n",
            " 2   Name      891 non-null    object \n",
            " 3   Sex       891 non-null    object \n",
            " 4   Age       714 non-null    float64\n",
            " 5   SibSp     891 non-null    int64  \n",
            " 6   Parch     891 non-null    int64  \n",
            " 7   Ticket    891 non-null    object \n",
            " 8   Fare      891 non-null    float64\n",
            " 9   Cabin     204 non-null    object \n",
            " 10  Embarked  889 non-null    object \n",
            "dtypes: float64(2), int64(4), object(5)\n",
            "memory usage: 83.5+ KB\n"
          ]
        }
      ]
    },
    {
      "cell_type": "markdown",
      "source": [
        "Удалим нечисловые признаки, которые маловероятно влияют на выживаемость: Name, Ticket, Cabin."
      ],
      "metadata": {
        "id": "cus6-MmjkuYE"
      }
    },
    {
      "cell_type": "code",
      "source": [
        "df = df.drop(columns=['Name', 'Ticket', 'Cabin'])\n",
        "print(\"\\nDataFrame после удаления нечисловых признаков:\")\n",
        "print(df.head())"
      ],
      "metadata": {
        "colab": {
          "base_uri": "https://localhost:8080/"
        },
        "id": "WS8CBUU2kveh",
        "outputId": "2f67fa3f-c786-4d38-c9b6-f4fb53eb2188"
      },
      "execution_count": 5,
      "outputs": [
        {
          "output_type": "stream",
          "name": "stdout",
          "text": [
            "\n",
            "DataFrame после удаления нечисловых признаков:\n",
            "             Survived  Pclass     Sex   Age  SibSp  Parch     Fare Embarked\n",
            "PassengerId                                                                \n",
            "1                   0       3    male  22.0      1      0   7.2500        S\n",
            "2                   1       1  female  38.0      1      0  71.2833        C\n",
            "3                   1       3  female  26.0      0      0   7.9250        S\n",
            "4                   1       1  female  35.0      1      0  53.1000        S\n",
            "5                   0       3    male  35.0      0      0   8.0500        S\n"
          ]
        }
      ]
    },
    {
      "cell_type": "markdown",
      "source": [
        "Заменим признак Sex на два бинарных признака: male и female."
      ],
      "metadata": {
        "id": "qbD7Q8_rkyQt"
      }
    },
    {
      "cell_type": "code",
      "source": [
        "df['male'] = (df['Sex'] == 'male').astype(int)\n",
        "df['female'] = (df['Sex'] == 'female').astype(int)\n",
        "\n",
        "df = df.drop(columns=['Sex'])\n",
        "\n",
        "print(\"\\nDataFrame после создания признаков male/female:\")\n",
        "print(df[['male', 'female']].head())"
      ],
      "metadata": {
        "colab": {
          "base_uri": "https://localhost:8080/"
        },
        "id": "AzXEEMeMkzUZ",
        "outputId": "13f35359-cc6e-4b35-80f3-0154f9758939"
      },
      "execution_count": 6,
      "outputs": [
        {
          "output_type": "stream",
          "name": "stdout",
          "text": [
            "\n",
            "DataFrame после создания признаков male/female:\n",
            "             male  female\n",
            "PassengerId              \n",
            "1               1       0\n",
            "2               0       1\n",
            "3               0       1\n",
            "4               0       1\n",
            "5               1       0\n"
          ]
        }
      ]
    },
    {
      "cell_type": "markdown",
      "source": [
        "Удалим строки с хотя бы одним пропущенным значением (NaN)."
      ],
      "metadata": {
        "id": "G93pWICpk3TV"
      }
    },
    {
      "cell_type": "code",
      "source": [
        "df = df.dropna()\n",
        "\n",
        "print(f\"\\nРазмер DataFrame после удаления строк с NaN: {df.shape}\")"
      ],
      "metadata": {
        "colab": {
          "base_uri": "https://localhost:8080/"
        },
        "id": "-f2qwPrIk3ve",
        "outputId": "1608d868-8955-44c8-b289-864872b1347a"
      },
      "execution_count": 7,
      "outputs": [
        {
          "output_type": "stream",
          "name": "stdout",
          "text": [
            "\n",
            "Размер DataFrame после удаления строк с NaN: (712, 9)\n"
          ]
        }
      ]
    },
    {
      "cell_type": "markdown",
      "source": [
        "# Исследование данных\n",
        "Нормализуем признак Fare с использованием минимакс-нормализации (приведение к диапазону [0, 1])."
      ],
      "metadata": {
        "id": "fYRvGGLgk_B8"
      }
    },
    {
      "cell_type": "code",
      "source": [
        "from sklearn.preprocessing import MinMaxScaler\n",
        "\n",
        "scaler = MinMaxScaler()\n",
        "df['Fare'] = scaler.fit_transform(df[['Fare']])\n",
        "\n",
        "print(\"\\nПервые 5 значений нормализованного Fare:\")\n",
        "print(df['Fare'].head())"
      ],
      "metadata": {
        "colab": {
          "base_uri": "https://localhost:8080/"
        },
        "id": "elK8zH5XlA4o",
        "outputId": "adbc131e-12cf-4bb8-a81a-d680b4587d2a"
      },
      "execution_count": 8,
      "outputs": [
        {
          "output_type": "stream",
          "name": "stdout",
          "text": [
            "\n",
            "Первые 5 значений нормализованного Fare:\n",
            "PassengerId\n",
            "1    0.014151\n",
            "2    0.139136\n",
            "3    0.015469\n",
            "4    0.103644\n",
            "5    0.015713\n",
            "Name: Fare, dtype: float64\n"
          ]
        }
      ]
    },
    {
      "cell_type": "markdown",
      "source": [
        "Найдём разницу между средними значениями Fare для выживших и погибших."
      ],
      "metadata": {
        "id": "t0yZvKGOlDKU"
      }
    },
    {
      "cell_type": "code",
      "source": [
        "mean_fare_survived = df[df['Survived'] == 1]['Fare'].mean()\n",
        "mean_fare_not_survived = df[df['Survived'] == 0]['Fare'].mean()\n",
        "difference = mean_fare_survived - mean_fare_not_survived\n",
        "\n",
        "print(f\"\\nСреднее значение Fare для выживших: {mean_fare_survived:.4f}\")\n",
        "print(f\"Среднее значение Fare для погибших: {mean_fare_not_survived:.4f}\")\n",
        "print(f\"Разница: {difference:.4f}\")"
      ],
      "metadata": {
        "colab": {
          "base_uri": "https://localhost:8080/"
        },
        "id": "4dA1hpEqlERA",
        "outputId": "a40e93ee-263d-4d3f-8dc1-d4f575d56e79"
      },
      "execution_count": 9,
      "outputs": [
        {
          "output_type": "stream",
          "name": "stdout",
          "text": [
            "\n",
            "Среднее значение Fare для выживших: 0.1008\n",
            "Среднее значение Fare для погибших: 0.0448\n",
            "Разница: 0.0560\n"
          ]
        }
      ]
    },
    {
      "cell_type": "markdown",
      "source": [
        "Построим гистограммы значений Fare для выживших и погибших на одном графике."
      ],
      "metadata": {
        "id": "FxJf00jKlGsb"
      }
    },
    {
      "cell_type": "code",
      "source": [
        "plt.figure(figsize=(10, 6))\n",
        "plt.hist(df[df['Survived'] == 0]['Fare'], bins=30, alpha=0.7, label='Погибшие', color='red')\n",
        "plt.hist(df[df['Survived'] == 1]['Fare'], bins=30, alpha=0.7, label='Выжившие', color='green')\n",
        "plt.xlabel('Нормализованная стоимость билета (Fare)')\n",
        "plt.ylabel('Количество пассажиров')\n",
        "plt.title('Распределение стоимости билета для выживших и погибших')\n",
        "plt.legend()\n",
        "plt.grid(True)\n",
        "plt.show()"
      ],
      "metadata": {
        "colab": {
          "base_uri": "https://localhost:8080/",
          "height": 564
        },
        "id": "bCR2kpVmlHGy",
        "outputId": "8ceb9fb9-b669-4775-a78b-c18928f10aa2"
      },
      "execution_count": 10,
      "outputs": [
        {
          "output_type": "display_data",
          "data": {
            "text/plain": [
              "<Figure size 1000x600 with 1 Axes>"
            ],
            "image/png": "[encoded data removed]"
          },
          "metadata": {}
        }
      ]
    },
    {
      "cell_type": "markdown",
      "source": [
        "Сформируем набор признаков X и вектор целевых значений y.\n",
        "\n"
      ],
      "metadata": {
        "id": "tk584wUdlJUp"
      }
    },
    {
      "cell_type": "code",
      "source": [
        "X = df.drop(columns=['Survived'])\n",
        "y = df['Survived']\n",
        "\n",
        "print(\"\\nФорма матрицы признаков X:\", X.shape)\n",
        "print(\"Форма вектора целей y:\", y.shape)\n",
        "print(\"Столбцы признаков:\", list(X.columns))"
      ],
      "metadata": {
        "colab": {
          "base_uri": "https://localhost:8080/"
        },
        "id": "6hSvYdqIlK9x",
        "outputId": "54981e5c-7c83-4ceb-ef66-794482e24c52"
      },
      "execution_count": 11,
      "outputs": [
        {
          "output_type": "stream",
          "name": "stdout",
          "text": [
            "\n",
            "Форма матрицы признаков X: (712, 8)\n",
            "Форма вектора целей y: (712,)\n",
            "Столбцы признаков: ['Pclass', 'Age', 'SibSp', 'Parch', 'Fare', 'Embarked', 'male', 'female']\n"
          ]
        }
      ]
    },
    {
      "cell_type": "markdown",
      "source": [
        "## Предсказательная модель\n",
        "Разделим данные на обучающую (75%) и тестовую (25%) выборки."
      ],
      "metadata": {
        "id": "8dqVzCnilOwL"
      }
    },
    {
      "cell_type": "code",
      "source": [
        "from sklearn.model_selection import train_test_split\n",
        "\n",
        "X_train, X_test, y_train, y_test = train_test_split(\n",
        "    X, y, test_size=0.25, random_state=42, stratify=y\n",
        ")\n",
        "\n",
        "print(f\"\\nРазмер обучающей выборки: {X_train.shape[0]}\")\n",
        "print(f\"Размер тестовой выборки: {X_test.shape[0]}\")"
      ],
      "metadata": {
        "colab": {
          "base_uri": "https://localhost:8080/"
        },
        "id": "Cx13Fwu0lQRq",
        "outputId": "32b5e2e3-c239-4e64-fe64-ba400273a02d"
      },
      "execution_count": 12,
      "outputs": [
        {
          "output_type": "stream",
          "name": "stdout",
          "text": [
            "\n",
            "Размер обучающей выборки: 534\n",
            "Размер тестовой выборки: 178\n"
          ]
        }
      ]
    },
    {
      "cell_type": "markdown",
      "source": [
        "бучим модель логистической регрессии."
      ],
      "metadata": {
        "id": "XZ0CNNv5lSoQ"
      }
    },
    {
      "cell_type": "code",
      "source": [
        "df = pd.read_csv('titanic.csv', index_col='PassengerId')\n",
        "\n",
        "\n",
        "df = df.drop(columns=['Name', 'Ticket', 'Cabin'])\n",
        "\n",
        "df['male'] = (df['Sex'] == 'male').astype(int)\n",
        "df['female'] = (df['Sex'] == 'female').astype(int)\n",
        "df = df.drop(columns=['Sex'])\n",
        "\n",
        "embarked_dummies = pd.get_dummies(df['Embarked'], prefix='Embarked')\n",
        "df = pd.concat([df, embarked_dummies], axis=1)\n",
        "df = df.drop(columns=['Embarked'])\n",
        "\n",
        "df = df.dropna()\n",
        "\n",
        "print(\"DataFrame после полной подготовки:\")\n",
        "print(df.head())\n",
        "print(\"\\nТипы данных:\")\n",
        "print(df.dtypes)"
      ],
      "metadata": {
        "colab": {
          "base_uri": "https://localhost:8080/"
        },
        "id": "D_Q_oElFlS0l",
        "outputId": "fff693e8-62e9-434c-8677-ae555256cfe8"
      },
      "execution_count": 17,
      "outputs": [
        {
          "output_type": "stream",
          "name": "stdout",
          "text": [
            "DataFrame после полной подготовки:\n",
            "             Survived  Pclass   Age  SibSp  Parch     Fare  male  female  \\\n",
            "PassengerId                                                                \n",
            "1                   0       3  22.0      1      0   7.2500     1       0   \n",
            "2                   1       1  38.0      1      0  71.2833     0       1   \n",
            "3                   1       3  26.0      0      0   7.9250     0       1   \n",
            "4                   1       1  35.0      1      0  53.1000     0       1   \n",
            "5                   0       3  35.0      0      0   8.0500     1       0   \n",
            "\n",
            "             Embarked_C  Embarked_Q  Embarked_S  \n",
            "PassengerId                                      \n",
            "1                 False       False        True  \n",
            "2                  True       False       False  \n",
            "3                 False       False        True  \n",
            "4                 False       False        True  \n",
            "5                 False       False        True  \n",
            "\n",
            "Типы данных:\n",
            "Survived        int64\n",
            "Pclass          int64\n",
            "Age           float64\n",
            "SibSp           int64\n",
            "Parch           int64\n",
            "Fare          float64\n",
            "male            int64\n",
            "female          int64\n",
            "Embarked_C       bool\n",
            "Embarked_Q       bool\n",
            "Embarked_S       bool\n",
            "dtype: object\n"
          ]
        }
      ]
    },
    {
      "cell_type": "markdown",
      "source": [
        "## Проверка модели\n",
        "Выведем матрицу ошибок (confusion matrix)."
      ],
      "metadata": {
        "id": "pTiu3BQ4lVgz"
      }
    },
    {
      "cell_type": "code",
      "source": [
        "from sklearn.preprocessing import MinMaxScaler\n",
        "\n",
        "scaler = MinMaxScaler()\n",
        "df['Fare'] = scaler.fit_transform(df[['Fare']])\n",
        "\n",
        "print(\"\\nПример нормализованных значений Fare (первые 5):\")\n",
        "print(df['Fare'].head().values)\n",
        "print(f\"Минимум Fare после нормализации: {df['Fare'].min():.4f}\")\n",
        "print(f\"Максимум Fare после нормализации: {df['Fare'].max():.4f}\")"
      ],
      "metadata": {
        "colab": {
          "base_uri": "https://localhost:8080/"
        },
        "id": "Zdj8kcSrlbnh",
        "outputId": "b22fc2d8-27a0-4200-d7b2-f60b06122928"
      },
      "execution_count": 22,
      "outputs": [
        {
          "output_type": "stream",
          "name": "stdout",
          "text": [
            "\n",
            "Пример нормализованных значений Fare (первые 5):\n",
            "[0.01415106 0.13913574 0.01546857 0.1036443  0.01571255]\n",
            "Минимум Fare после нормализации: 0.0000\n",
            "Максимум Fare после нормализации: 1.0000\n"
          ]
        }
      ]
    },
    {
      "cell_type": "markdown",
      "source": [
        "Рассчитаем точность (accuracy)."
      ],
      "metadata": {
        "id": "bOXi-xCelet1"
      }
    },
    {
      "cell_type": "code",
      "source": [
        "df = pd.read_csv('titanic.csv', index_col='PassengerId')\n",
        "df = df.drop(columns=['Name', 'Ticket', 'Cabin'])\n",
        "\n",
        "df['male'] = (df['Sex'] == 'male').astype(int)\n",
        "df['female'] = (df['Sex'] == 'female').astype(int)\n",
        "df = df.drop(columns=['Sex'])\n",
        "\n",
        "df = pd.get_dummies(df, columns=['Embarked'], prefix='Embarked')\n",
        "\n",
        "df = df.dropna()\n",
        "\n",
        "from sklearn.preprocessing import MinMaxScaler\n",
        "scaler = MinMaxScaler()\n",
        "df['Fare'] = scaler.fit_transform(df[['Fare']])\n",
        "\n",
        "print(\"\\nПосле нормализации Fare:\")\n",
        "print(f\"Диапазон Fare: [{df['Fare'].min():.4f}, {df['Fare'].max():.4f}]\")"
      ],
      "metadata": {
        "colab": {
          "base_uri": "https://localhost:8080/"
        },
        "id": "nDKC8pcPlf7h",
        "outputId": "88451c20-288e-4f1f-945d-77e10b243ff1"
      },
      "execution_count": 25,
      "outputs": [
        {
          "output_type": "stream",
          "name": "stdout",
          "text": [
            "\n",
            "После нормализации Fare:\n",
            "Диапазон Fare: [0.0000, 1.0000]\n"
          ]
        }
      ]
    },
    {
      "cell_type": "markdown",
      "source": [
        "\n",
        "# Вопросы для защиты лабораторной работы №7: Классификация\n",
        "\n",
        "1. **Сформулируйте задачу классификации.**  \n",
        "   Задача классификации — это задача машинного обучения, в которой требуется отнести каждый объект (наблюдение) к одному из заранее определённых классов (категорий) на основе его признаков. Например, по данным о пассажире «Титаника» предсказать, выжил он (класс 1) или погиб (класс 0).\n",
        "\n",
        "2. **Перечислите типы классификации.**  \n",
        "   Основные типы классификации:\n",
        "   - Бинарная классификация (два класса),\n",
        "   - Мультиклассовая классификация (более двух классов, каждый объект принадлежит ровно одному классу),\n",
        "   - Классификация по нескольким меткам (multi-label classification): объект может принадлежать сразу нескольким классам одновременно),\n",
        "   - Несбалансированная классификация (когда распределение классов сильно неоднородно).\n",
        "\n",
        "3. **В чем особенность несбалансированной классификации?**  \n",
        "   Особенность несбалансированной классификации заключается в том, что количество объектов в одном классе значительно превышает количество объектов в другом (или других). Это может привести к тому, что модель будет «игнорировать» редкий класс и достигать высокой точности (accuracy), просто предсказывая доминирующий класс. Для оценки качества в таких задачах используются метрики, устойчивые к дисбалансу: precision, recall, F1-score, ROC-AUC.\n",
        "\n",
        "4. **В чем особенность мультиклассовой классификации?**  \n",
        "   В мультиклассовой классификации целевая переменная может принимать **более двух значений**, но каждый объект относится **ровно к одному классу**. Например, классификация изображений на «кошка», «собака», «птица». Многие алгоритмы (например, логистическая регрессия) изначально поддерживают только бинарную классификацию, поэтому для мультиклассовых задач применяются стратегии: «один против всех» (One-vs-Rest) или «один против одного» (One-vs-One).\n",
        "\n",
        "5. **В чем особенность бинарной классификации?**  \n",
        "   Бинарная классификация — это самый простой тип классификации, где целевая переменная принимает **только два возможных значения** (например, 0/1, «да»/«нет», «спам»/«не спам»). Многие алгоритмы (логистическая регрессия, SVM, деревья решений) изначально разработаны именно для бинарной классификации.\n",
        "\n",
        "6. **В чем особенность классификации по нескольким меткам?**  \n",
        "   В задаче классификации по нескольким меткам (multi-label classification) **один объект может одновременно принадлежать нескольким классам**. Например, фильм может быть одновременно «боевиком», «драмой» и «триллером». Это отличается от мультиклассовой классификации, где выбор одного класса исключает другие. Для решения таких задач часто обучают отдельную бинарную модель для каждой метки.\n",
        "\n",
        "7. **Чем стратегия \"Один против всех\" отличается от стратегии \"Один против одного\"?**  \n",
        "   - **«Один против всех» (One-vs-Rest, OvR)**: для задачи с `K` классами обучается `K` бинарных классификаторов. Каждый классификатор отделяет один класс от всех остальных. На этапе предсказания выбирается класс с наибольшей уверенностью (оценкой).  \n",
        "   - **«Один против одного» (One-vs-One, OvO)**: обучается по одному классификатору для **каждой пары классов**. При `K` классах создаётся `K(K−1)/2` моделей. На этапе предсказания каждая модель «голосует» за один из двух классов, и побеждает класс с наибольшим числом голосов.  \n",
        "   OvR проще и быстрее, OvO точнее при малом числе классов, но требует больше памяти и времени при большом `K`.\n",
        "\n",
        "8. **Что такое матрица ошибок (несоответствий)?**  \n",
        "   Матрица ошибок (confusion matrix) — это таблица, которая показывает количество **правильных и неправильных предсказаний** модели по каждому классу. Для бинарной классификации она имеет вид:  \n",
        "\n",
        "   |                     | Предсказано: 0 | Предсказано: 1 |\n",
        "   |---------------------|----------------|----------------|\n",
        "   | **Факт: 0**         | TN             | FP             |\n",
        "   | **Факт: 1**         | FN             | TP             |\n",
        "\n",
        "   Где:  \n",
        "   - TP (True Positive) — верно предсказанные положительные случаи,  \n",
        "   - TN (True Negative) — верно предсказанные отрицательные случаи,  \n",
        "   - FP (False Positive) — ложные срабатывания,  \n",
        "   - FN (False Negative) — пропущенные положительные случаи.  \n",
        "\n",
        "   Матрица ошибок позволяет вычислить precision, recall, F1 и другие метрики.\n",
        "\n",
        "9. **Как рассчитывается Accuracy?**  \n",
        "   Accuracy (точность) — это доля **правильно классифицированных объектов** среди всех объектов:  \n",
        "\n",
        "   \\[\n",
        "   \\text{Accuracy} = \\frac{TP + TN}{TP + TN + FP + FN}\n",
        "   \\]\n",
        "\n",
        "   Accuracy удобна для сбалансированных данных, но может вводить в заблуждение при несбалансированных классах.\n",
        "\n",
        "10. **Объясните алгоритм классификации K-ближайших соседей.**  \n",
        "    Алгоритм **K-ближайших соседей (K-Nearest Neighbors, KNN)** — это простой метод классификации, основанный на поиске ближайших объектов в пространстве признаков.  \n",
        "    Принцип работы:\n",
        "    - Для нового объекта вычисляются расстояния до всех объектов обучающей выборки (обычно евклидово расстояние).\n",
        "    - Выбираются `K` ближайших соседей.\n",
        "    - Класс нового объекта определяется **голосованием**: присваивается тот класс, который чаще всего встречается среди `K` соседей.  \n",
        "    Особенности:\n",
        "    - Не требует обучения (ленивое обучение),\n",
        "    - Чувствителен к масштабу признаков (требует нормализации),\n",
        "    - Выбор `K` важен: малое `K` → переобучение, большое `K` → недообучение."
      ],
      "metadata": {
        "id": "WxANGFbQnJup"
      }
    }
  ]
}